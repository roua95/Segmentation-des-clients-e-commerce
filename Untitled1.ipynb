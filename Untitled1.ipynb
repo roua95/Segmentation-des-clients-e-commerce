{
 "cells": [
  {
   "cell_type": "code",
   "execution_count": 6,
   "id": "164d36a7-6b02-40cb-823e-083e062b10ad",
   "metadata": {},
   "outputs": [],
   "source": [
    "a=5"
   ]
  },
  {
   "cell_type": "code",
   "execution_count": 11,
   "id": "4343dca7-7b40-4fb6-9847-7a4887eb86ea",
   "metadata": {},
   "outputs": [
    {
     "name": "stdout",
     "output_type": "stream",
     "text": [
      "{'__name__': '__main__', '__doc__': 'Automatically created module for IPython interactive environment', '__package__': None, '__loader__': None, '__spec__': None, '__builtin__': <module 'builtins' (built-in)>, '__builtins__': <module 'builtins' (built-in)>, '_ih': ['', 'a=5', 'print(a)', 'a=5', 'print(a)', 'a=5\\nprint(a)', 'a=5', 'print(a)', 'a+=5', 'a+=5', 'a+=5\\nprint(a)', 'print(globals())'], '_oh': {}, '_dh': ['C:\\\\Users\\\\ROUA\\\\git\\\\Segmentation-des-clients-e-commerce'], 'In': ['', 'a=5', 'print(a)', 'a=5', 'print(a)', 'a=5\\nprint(a)', 'a=5', 'print(a)', 'a+=5', 'a+=5', 'a+=5\\nprint(a)', 'print(globals())'], 'Out': {}, 'get_ipython': <bound method InteractiveShell.get_ipython of <ipykernel.zmqshell.ZMQInteractiveShell object at 0x000001C0C0FD2E80>>, 'exit': <IPython.core.autocall.ZMQExitAutocall object at 0x000001C0C107F820>, 'quit': <IPython.core.autocall.ZMQExitAutocall object at 0x000001C0C107F820>, '_': '', '__': '', '___': '', '_i': 'a+=5\\nprint(a)', '_ii': 'a+=5', '_iii': 'a+=5', '_i1': 'a=5', 'a': 20, '_i2': 'print(a)', '_i3': 'a=5', '_i4': 'print(a)', '_i5': 'a=5\\nprint(a)', '_i6': 'a=5', '_i7': 'print(a)', '_i8': 'a+=5', '_i9': 'a+=5', '_i10': 'a+=5\\nprint(a)', '_i11': 'print(globals())'}\n"
     ]
    }
   ],
   "source": [
    "print(globals())"
   ]
  },
  {
   "cell_type": "code",
   "execution_count": null,
   "id": "4adc53b6-57ce-4ae0-b00a-5e67f870f0ad",
   "metadata": {},
   "outputs": [],
   "source": []
  },
  {
   "cell_type": "code",
   "execution_count": null,
   "id": "8f28bb00-8bec-4d2e-ae4a-afec8eb11ca3",
   "metadata": {},
   "outputs": [],
   "source": []
  }
 ],
 "metadata": {
  "kernelspec": {
   "display_name": "Python 3",
   "language": "python",
   "name": "python3"
  },
  "language_info": {
   "codemirror_mode": {
    "name": "ipython",
    "version": 3
   },
   "file_extension": ".py",
   "mimetype": "text/x-python",
   "name": "python",
   "nbconvert_exporter": "python",
   "pygments_lexer": "ipython3",
   "version": "3.8.8"
  }
 },
 "nbformat": 4,
 "nbformat_minor": 5
}
